{
 "cells": [
  {
   "cell_type": "code",
   "execution_count": 1,
   "metadata": {},
   "outputs": [],
   "source": [
    "import urllib\n",
    "import cv2\n",
    "import numpy as np\n"
   ]
  },
  {
   "cell_type": "code",
   "execution_count": 11,
   "metadata": {},
   "outputs": [
    {
     "name": "stdout",
     "output_type": "stream",
     "text": [
      "Error Found : <urlopen error [SSL: CERTIFICATE_VERIFY_FAILED] certificate verify failed: self signed certificate (_ssl.c:1056)>\n"
     ]
    }
   ],
   "source": [
    "try:\n",
    "    url=\"https://172.15.69.214:8080/shot.jpg?rnd=564320\"\n",
    "    while True:\n",
    "        imgResp=urllib.request.urlopen(url)\n",
    "        imgNp=np.array(bytearray(imgResp.read()),dtype=np.uint8)\n",
    "        img=cv2.imdecode(imgNp,-1)\n",
    "        cv2.imshow('LIVE',img)\n",
    "        cv2.waitKey(10)\n",
    "except Exception as e:\n",
    "    print(\"Error Found : \"+str(e))\n",
    "    cv2.destroyAllWindows()\n",
    "    \n",
    "        "
   ]
  },
  {
   "cell_type": "code",
   "execution_count": 7,
   "metadata": {},
   "outputs": [],
   "source": [
    "class IPCamera:\n",
    "    def __init__ (self,url):\n",
    "        self.__url=url\n",
    "    def getStream(self):\n",
    "        try:\n",
    "            while True:\n",
    "                imgResp=urllib.request.urlopen(self.__url)\n",
    "                imgNp=np.array(bytearray(imgResp.read()),dtype=np.uint8)\n",
    "                img=cv2.imdecode(imgNp,-1)\n",
    "                cv2.imshow('LIVE',img)\n",
    "                if cv2.waitKey(1)==ord('s'):\n",
    "                    cv2.destroyAllWindows()\n",
    "        except Exception as e:\n",
    "            print(\"Error Found : \"+str(e))\n",
    "            cv2.destroyAllWindows()"
   ]
  },
  {
   "cell_type": "code",
   "execution_count": 9,
   "metadata": {},
   "outputs": [
    {
     "name": "stdout",
     "output_type": "stream",
     "text": [
      "Error Found : <urlopen error [SSL: CERTIFICATE_VERIFY_FAILED] certificate verify failed: self signed certificate (_ssl.c:1056)>\n"
     ]
    }
   ],
   "source": [
    "stream1=IPCamera(\"https://172.15.69.214:8080/shot.jpg?rnd=17392\")\n",
    "stream1.getStream()"
   ]
  },
  {
   "cell_type": "code",
   "execution_count": 23,
   "metadata": {
    "collapsed": true
   },
   "outputs": [],
   "source": [
    "class IPCamera:\n",
    "    \n",
    "    def __init__ (self,url,url1):\n",
    "            self.__url=url\n",
    "            self.__url1=url\n",
    "            \n",
    "\n",
    "            \n",
    "    def getMultipleStream(self):\n",
    "        try:\n",
    "            while True:\n",
    "                print(\"1.Gate no# 01\")\n",
    "                print(\"2.Gate no# 02\")\n",
    "                \n",
    "                imgResp1=urllib.request.urlopen(self.__url1)\n",
    "                imgNp1=np.array(bytearray(imgResp1.read()),dtype=np.uint8)\n",
    "                img1=cv2.imdecode(imgNp1,-1)\n",
    "                cv2.imshow('Gate.1',img1)\n",
    "                cv2.waitKey(25)\n",
    "                \n",
    "                imgResp=urllib.request.urlopen(self.__url)\n",
    "                imgNp=np.array(bytearray(imgResp.read()),dtype=np.uint8)\n",
    "                img=cv2.imdecode(imgNp,-1)\n",
    "                cv2.imshow('Gate.2',img)\n",
    "                cv2.waitKey(25)\n",
    "                    \n",
    "                \n",
    "        except Exception as e:\n",
    "            print(\"Error Found : \"+str(e))\n",
    "            cv2.destroyAllWindows()\n",
    "        \n",
    "        \n",
    "        \n",
    "        \n",
    "        "
   ]
  },
  {
   "cell_type": "code",
   "execution_count": 24,
   "metadata": {},
   "outputs": [
    {
     "name": "stdout",
     "output_type": "stream",
     "text": [
      "1.Gate no# 01\n",
      "2.Gate no# 02\n",
      "1.Gate no# 01\n",
      "2.Gate no# 02\n",
      "1.Gate no# 01\n",
      "2.Gate no# 02\n",
      "1.Gate no# 01\n",
      "2.Gate no# 02\n",
      "1.Gate no# 01\n",
      "2.Gate no# 02\n",
      "1.Gate no# 01\n",
      "2.Gate no# 02\n",
      "1.Gate no# 01\n",
      "2.Gate no# 02\n",
      "1.Gate no# 01\n",
      "2.Gate no# 02\n",
      "1.Gate no# 01\n",
      "2.Gate no# 02\n",
      "1.Gate no# 01\n",
      "2.Gate no# 02\n",
      "1.Gate no# 01\n",
      "2.Gate no# 02\n",
      "1.Gate no# 01\n",
      "2.Gate no# 02\n",
      "1.Gate no# 01\n",
      "2.Gate no# 02\n",
      "1.Gate no# 01\n",
      "2.Gate no# 02\n",
      "1.Gate no# 01\n",
      "2.Gate no# 02\n",
      "1.Gate no# 01\n",
      "2.Gate no# 02\n",
      "1.Gate no# 01\n",
      "2.Gate no# 02\n",
      "1.Gate no# 01\n",
      "2.Gate no# 02\n",
      "1.Gate no# 01\n",
      "2.Gate no# 02\n",
      "1.Gate no# 01\n",
      "2.Gate no# 02\n",
      "1.Gate no# 01\n",
      "2.Gate no# 02\n",
      "1.Gate no# 01\n",
      "2.Gate no# 02\n",
      "1.Gate no# 01\n",
      "2.Gate no# 02\n",
      "1.Gate no# 01\n",
      "2.Gate no# 02\n",
      "1.Gate no# 01\n",
      "2.Gate no# 02\n",
      "1.Gate no# 01\n",
      "2.Gate no# 02\n",
      "1.Gate no# 01\n",
      "2.Gate no# 02\n",
      "1.Gate no# 01\n",
      "2.Gate no# 02\n",
      "1.Gate no# 01\n",
      "2.Gate no# 02\n",
      "1.Gate no# 01\n",
      "2.Gate no# 02\n",
      "1.Gate no# 01\n",
      "2.Gate no# 02\n",
      "1.Gate no# 01\n",
      "2.Gate no# 02\n",
      "1.Gate no# 01\n",
      "2.Gate no# 02\n",
      "1.Gate no# 01\n",
      "2.Gate no# 02\n",
      "1.Gate no# 01\n",
      "2.Gate no# 02\n",
      "1.Gate no# 01\n",
      "2.Gate no# 02\n",
      "1.Gate no# 01\n",
      "2.Gate no# 02\n",
      "1.Gate no# 01\n",
      "2.Gate no# 02\n",
      "1.Gate no# 01\n",
      "2.Gate no# 02\n",
      "1.Gate no# 01\n",
      "2.Gate no# 02\n",
      "1.Gate no# 01\n",
      "2.Gate no# 02\n",
      "1.Gate no# 01\n",
      "2.Gate no# 02\n",
      "1.Gate no# 01\n",
      "2.Gate no# 02\n",
      "1.Gate no# 01\n",
      "2.Gate no# 02\n",
      "1.Gate no# 01\n",
      "2.Gate no# 02\n",
      "1.Gate no# 01\n",
      "2.Gate no# 02\n",
      "1.Gate no# 01\n",
      "2.Gate no# 02\n",
      "1.Gate no# 01\n",
      "2.Gate no# 02\n",
      "1.Gate no# 01\n",
      "2.Gate no# 02\n",
      "1.Gate no# 01\n",
      "2.Gate no# 02\n",
      "1.Gate no# 01\n",
      "2.Gate no# 02\n",
      "1.Gate no# 01\n",
      "2.Gate no# 02\n",
      "1.Gate no# 01\n",
      "2.Gate no# 02\n",
      "1.Gate no# 01\n",
      "2.Gate no# 02\n",
      "1.Gate no# 01\n",
      "2.Gate no# 02\n",
      "1.Gate no# 01\n",
      "2.Gate no# 02\n",
      "1.Gate no# 01\n",
      "2.Gate no# 02\n",
      "1.Gate no# 01\n",
      "2.Gate no# 02\n",
      "1.Gate no# 01\n",
      "2.Gate no# 02\n",
      "1.Gate no# 01\n",
      "2.Gate no# 02\n",
      "1.Gate no# 01\n",
      "2.Gate no# 02\n",
      "1.Gate no# 01\n",
      "2.Gate no# 02\n",
      "1.Gate no# 01\n",
      "2.Gate no# 02\n",
      "1.Gate no# 01\n",
      "2.Gate no# 02\n",
      "1.Gate no# 01\n",
      "2.Gate no# 02\n",
      "1.Gate no# 01\n",
      "2.Gate no# 02\n",
      "1.Gate no# 01\n",
      "2.Gate no# 02\n",
      "1.Gate no# 01\n",
      "2.Gate no# 02\n",
      "1.Gate no# 01\n",
      "2.Gate no# 02\n",
      "1.Gate no# 01\n",
      "2.Gate no# 02\n",
      "Error Found : OpenCV(4.0.1) C:\\projects\\opencv-python\\opencv\\modules\\imgcodecs\\src\\loadsave.cpp:726: error: (-215:Assertion failed) !buf.empty() && buf.isContinuous() in function 'cv::imdecode_'\n",
      "\n"
     ]
    }
   ],
   "source": [
    "stream1=IPCamera(\"http://172.15.17.167:8080/shot.jpg?rnd=182498\",2)\n",
    "stream1.getMultipleStream()"
   ]
  },
  {
   "cell_type": "code",
   "execution_count": 8,
   "metadata": {},
   "outputs": [
    {
     "name": "stdout",
     "output_type": "stream",
     "text": [
      "enter gate num: 0\n",
      "Error Found : OpenCV(4.0.1) C:\\projects\\opencv-python\\opencv\\modules\\imgcodecs\\src\\loadsave.cpp:726: error: (-215:Assertion failed) !buf.empty() && buf.isContinuous() in function 'cv::imdecode_'\n",
      "\n"
     ]
    },
    {
     "ename": "error",
     "evalue": "OpenCV(4.0.1) C:\\projects\\opencv-python\\opencv\\modules\\highgui\\src\\window.cpp:352: error: (-215:Assertion failed) size.width>0 && size.height>0 in function 'cv::imshow'\n",
     "output_type": "error",
     "traceback": [
      "\u001b[1;31m---------------------------------------------------------------------------\u001b[0m",
      "\u001b[1;31merror\u001b[0m                                     Traceback (most recent call last)",
      "\u001b[1;32m<ipython-input-8-110bf80045a6>\u001b[0m in \u001b[0;36m<module>\u001b[1;34m()\u001b[0m\n\u001b[0;32m      3\u001b[0m \u001b[1;32mwhile\u001b[0m \u001b[1;32mTrue\u001b[0m\u001b[1;33m:\u001b[0m\u001b[1;33m\u001b[0m\u001b[0m\n\u001b[0;32m      4\u001b[0m     \u001b[0mimg\u001b[0m\u001b[1;33m=\u001b[0m\u001b[0mstream1\u001b[0m\u001b[1;33m.\u001b[0m\u001b[0mgetMultipleStream\u001b[0m\u001b[1;33m(\u001b[0m\u001b[1;33m)\u001b[0m\u001b[1;33m\u001b[0m\u001b[0m\n\u001b[1;32m----> 5\u001b[1;33m     \u001b[0mcv2\u001b[0m\u001b[1;33m.\u001b[0m\u001b[0mimshow\u001b[0m\u001b[1;33m(\u001b[0m\u001b[1;34m'gate0'\u001b[0m\u001b[1;33m,\u001b[0m\u001b[0mimg\u001b[0m\u001b[1;33m)\u001b[0m\u001b[1;33m\u001b[0m\u001b[0m\n\u001b[0m\u001b[0;32m      6\u001b[0m     \u001b[0mcv2\u001b[0m\u001b[1;33m.\u001b[0m\u001b[0mwaitKey\u001b[0m\u001b[1;33m(\u001b[0m\u001b[1;36m25\u001b[0m\u001b[1;33m)\u001b[0m\u001b[1;33m\u001b[0m\u001b[0m\n",
      "\u001b[1;31merror\u001b[0m: OpenCV(4.0.1) C:\\projects\\opencv-python\\opencv\\modules\\highgui\\src\\window.cpp:352: error: (-215:Assertion failed) size.width>0 && size.height>0 in function 'cv::imshow'\n"
     ]
    }
   ],
   "source": [
    "gate=int(input(\"enter gate num: \"))\n",
    "stream1=IPCamera(gate)\n",
    "try:\n",
    "    while True:\n",
    "        img=stream1.getMultipleStream()\n",
    "        cv2.imshow('gate0',img)\n",
    "        cv2.waitKey(25)\n",
    "except Exception as e:\n",
    "            print(\"Error Found : \"+str(e))\n",
    "            cv2.destroyAllWindows()\n"
   ]
  },
  {
   "cell_type": "code",
   "execution_count": 9,
   "metadata": {
    "collapsed": true
   },
   "outputs": [],
   "source": [
    "class IPCamera:\n",
    "    \n",
    "    def __init__ (self,url):\n",
    "        self.__url=url\n",
    "    def getStream(self):\n",
    "        try:\n",
    "            while True:\n",
    "                imgResp=urllib.request.urlopen(self.__url)\n",
    "                imgNp=np.array(bytearray(imgResp.read()),dtype=np.uint8)\n",
    "                img=cv2.imdecode(imgNp,-1)\n",
    "                return img\n",
    "                \n",
    "        except Exception as e:\n",
    "            print(\"Error Found : \"+str(e))\n",
    "            cv2.destroyAllWindows()\n",
    "        \n",
    "        \n",
    "        "
   ]
  },
  {
   "cell_type": "code",
   "execution_count": 4,
   "metadata": {},
   "outputs": [],
   "source": [
    "class MultiIPCamera:\n",
    "    \n",
    "    def __init__ (self,gate):\n",
    "            self.gate=gate\n",
    "            self.list1=[\"https://172.15.69.214:8080/shot.jpg?rnd=17392\"]\n",
    "    def getMultipleStream(self):\n",
    "        try:\n",
    "            while True:\n",
    "                if gate == 0:\n",
    "                    global url\n",
    "                    url=self.list1[gate]\n",
    "                stream1=IPCamera(url)\n",
    "                return stream1.getStream()\n",
    "                \n",
    "        except Exception as e:\n",
    "            print(\"Error Found : \"+str(e))\n",
    "            cv2.destroyAllWindows()"
   ]
  },
  {
   "cell_type": "code",
   "execution_count": 12,
   "metadata": {},
   "outputs": [
    {
     "name": "stdout",
     "output_type": "stream",
     "text": [
      "enter gate num: 0\n",
      "Error Found : Expected cv::UMat for argument 'mat'\n"
     ]
    }
   ],
   "source": [
    "try:\n",
    "    while True:\n",
    "        gate=int(input(\"enter gate num: \"))\n",
    "        s=MultiIPCamera(gate)\n",
    "        cv2.imshow('LIVE',s)\n",
    "        if cv2.waitKey(1)==ord('s'):\n",
    "            cv2.destroyAllWindows()\n",
    "except Exception as e:\n",
    "            print(\"Error Found : \"+str(e))\n",
    "            cv2.destroyAllWindows()"
   ]
  },
  {
   "cell_type": "code",
   "execution_count": null,
   "metadata": {
    "collapsed": true
   },
   "outputs": [],
   "source": []
  },
  {
   "cell_type": "code",
   "execution_count": null,
   "metadata": {
    "collapsed": true
   },
   "outputs": [],
   "source": []
  },
  {
   "cell_type": "code",
   "execution_count": 10,
   "metadata": {
    "collapsed": true
   },
   "outputs": [],
   "source": [
    "import urllib\n",
    "import cv2\n",
    "import numpy as np\n",
    "from threading import *\n",
    "from time import sleep"
   ]
  },
  {
   "cell_type": "code",
   "execution_count": 11,
   "metadata": {},
   "outputs": [],
   "source": [
    "\n",
    "global url\n",
    "class IPCamera(Thread):\n",
    "    \n",
    "    def __init__ (self,gate):\n",
    "            self.gate=gate\n",
    "            self.list1=[\"http://172.15.128.98:8080/shot.jpg?rnd=545220\",\"http://172.15.128.98:8080/shot.jpg?rnd=545220\"]\n",
    "    def run(self):\n",
    "        try:\n",
    "            while True:\n",
    "                if self.gate == 0:\n",
    "                    \n",
    "                    url=self.list1[self.gate]\n",
    "                elif self.gate == 1:\n",
    "                    url=self.list1[self.gate]\n",
    "                else:\n",
    "                    pass\n",
    "                \n",
    "                imgResp=urllib.request.urlopen(url)\n",
    "                imgNp=np.array(bytearray(imgResp.read()),dtype=np.uint8)\n",
    "                return cv2.imdecode(imgNp,-1)\n",
    "                \n",
    "                \n",
    "                \n",
    "        except Exception as e:\n",
    "            print(\"Error Found : \"+str(e))\n",
    "            cv2.destroyAllWindows()\n",
    "        \n",
    "        \n",
    "        \n",
    "        \n",
    "        "
   ]
  },
  {
   "cell_type": "code",
   "execution_count": null,
   "metadata": {},
   "outputs": [
    {
     "name": "stdout",
     "output_type": "stream",
     "text": [
      "enter gate num: 0\n",
      "Error Found : thread.__init__() not called\n",
      "enter gate num: 1\n",
      "Error Found : thread.__init__() not called\n",
      "enter gate num: 0\n",
      "Error Found : thread.__init__() not called\n",
      "enter gate num: m\n",
      "Error Found : invalid literal for int() with base 10: 'm'\n"
     ]
    }
   ],
   "source": [
    "try:\n",
    "    while True:\n",
    "        gate=int(input(\"enter gate num: \"))\n",
    "        stream1=IPCamera(gate)\n",
    "        try:\n",
    "            while True:\n",
    "                img=stream1.start()\n",
    "                cv2.imshow('gate0',img)\n",
    "                if cv2.waitKey(25)==ord('s'):\n",
    "                    cv2.destroyAllWindows()\n",
    "                    break\n",
    "                    \n",
    "        except Exception as e:\n",
    "                print(\"Error Found : \"+str(e))\n",
    "                cv2.destroyAllWindows()\n",
    "except Exception as e:\n",
    "                print(\"Error Found : \"+str(e))\n",
    "                cv2.destroyAllWindows()\n"
   ]
  },
  {
   "cell_type": "code",
   "execution_count": 17,
   "metadata": {},
   "outputs": [
    {
     "ename": "error",
     "evalue": "OpenCV(4.1.1) C:\\projects\\opencv-python\\opencv\\modules\\highgui\\src\\window.cpp:352: error: (-215:Assertion failed) size.width>0 && size.height>0 in function 'cv::imshow'\n",
     "output_type": "error",
     "traceback": [
      "\u001b[1;31m---------------------------------------------------------------------------\u001b[0m",
      "\u001b[1;31merror\u001b[0m                                     Traceback (most recent call last)",
      "\u001b[1;32m<ipython-input-17-690173c3633d>\u001b[0m in \u001b[0;36m<module>\u001b[1;34m\u001b[0m\n\u001b[0;32m      7\u001b[0m \u001b[1;33m\u001b[0m\u001b[0m\n\u001b[0;32m      8\u001b[0m     \u001b[0mret\u001b[0m\u001b[1;33m,\u001b[0m \u001b[0mframe\u001b[0m \u001b[1;33m=\u001b[0m \u001b[0mcap\u001b[0m\u001b[1;33m.\u001b[0m\u001b[0mread\u001b[0m\u001b[1;33m(\u001b[0m\u001b[1;33m)\u001b[0m\u001b[1;33m\u001b[0m\u001b[1;33m\u001b[0m\u001b[0m\n\u001b[1;32m----> 9\u001b[1;33m     \u001b[0mcv2\u001b[0m\u001b[1;33m.\u001b[0m\u001b[0mimshow\u001b[0m\u001b[1;33m(\u001b[0m\u001b[1;34m'frame'\u001b[0m\u001b[1;33m,\u001b[0m\u001b[0mframe\u001b[0m\u001b[1;33m)\u001b[0m\u001b[1;33m\u001b[0m\u001b[1;33m\u001b[0m\u001b[0m\n\u001b[0m\u001b[0;32m     10\u001b[0m \u001b[1;33m\u001b[0m\u001b[0m\n\u001b[0;32m     11\u001b[0m     \u001b[1;32mif\u001b[0m \u001b[0mcv2\u001b[0m\u001b[1;33m.\u001b[0m\u001b[0mwaitKey\u001b[0m\u001b[1;33m(\u001b[0m\u001b[1;36m1\u001b[0m\u001b[1;33m)\u001b[0m \u001b[1;33m&\u001b[0m \u001b[1;36m0xFF\u001b[0m \u001b[1;33m==\u001b[0m \u001b[0mord\u001b[0m\u001b[1;33m(\u001b[0m\u001b[1;34m'q'\u001b[0m\u001b[1;33m)\u001b[0m\u001b[1;33m:\u001b[0m\u001b[1;33m\u001b[0m\u001b[1;33m\u001b[0m\u001b[0m\n",
      "\u001b[1;31merror\u001b[0m: OpenCV(4.1.1) C:\\projects\\opencv-python\\opencv\\modules\\highgui\\src\\window.cpp:352: error: (-215:Assertion failed) size.width>0 && size.height>0 in function 'cv::imshow'\n"
     ]
    }
   ],
   "source": [
    "import numpy as np\n",
    "import cv2\n",
    "\n",
    "cap = cv2.VideoCapture('rtsp://172.15.69.214:8080')\n",
    "\n",
    "while(True):\n",
    "\n",
    "    ret, frame = cap.read()\n",
    "    cv2.imshow('frame',frame)\n",
    "\n",
    "    if cv2.waitKey(1) & 0xFF == ord('q'):\n",
    "        break\n",
    "\n",
    "cap.release()\n",
    "cv2.destroyAllWindows()"
   ]
  },
  {
   "cell_type": "code",
   "execution_count": 18,
   "metadata": {},
   "outputs": [],
   "source": [
    "import cv2\n",
    "\n",
    "cap = cv2.VideoCapture('https://172.15.69.214:8080/video')\n",
    "\n",
    "while(True):\n",
    "    ret, frame = cap.read()\n",
    "    cv2.imshow('frame',frame)\n",
    "    if cv2.waitKey(1) & 0xFF == ord('q'):\n",
    "        cv2.destroyAllWindows()\n",
    "        break"
   ]
  },
  {
   "cell_type": "code",
   "execution_count": null,
   "metadata": {
    "collapsed": true
   },
   "outputs": [],
   "source": []
  }
 ],
 "metadata": {
  "kernelspec": {
   "display_name": "Python 3",
   "language": "python",
   "name": "python3"
  },
  "language_info": {
   "codemirror_mode": {
    "name": "ipython",
    "version": 3
   },
   "file_extension": ".py",
   "mimetype": "text/x-python",
   "name": "python",
   "nbconvert_exporter": "python",
   "pygments_lexer": "ipython3",
   "version": "3.7.3"
  }
 },
 "nbformat": 4,
 "nbformat_minor": 2
}
